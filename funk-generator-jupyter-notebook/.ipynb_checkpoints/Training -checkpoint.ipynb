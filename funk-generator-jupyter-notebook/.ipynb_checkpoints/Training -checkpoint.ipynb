{
 "cells": [
  {
   "cell_type": "markdown",
   "metadata": {},
   "source": [
    "# Funk Generator - TensorFlow"
   ]
  },
  {
   "cell_type": "markdown",
   "metadata": {},
   "source": [
    "Documentation: https://www.tensorflow.org/tutorials/sequences/text_generation"
   ]
  },
  {
   "cell_type": "code",
   "execution_count": 10,
   "metadata": {},
   "outputs": [],
   "source": [
    "from __future__ import absolute_import, division, print_function, unicode_literals\n",
    "\n",
    "import tensorflow as tf\n",
    "tf.enable_eager_execution()\n",
    "\n",
    "import numpy as np\n",
    "import os\n",
    "import time\n",
    "import pandas as pd"
   ]
  },
  {
   "cell_type": "markdown",
   "metadata": {},
   "source": [
    "# Read Data"
   ]
  },
  {
   "cell_type": "code",
   "execution_count": 3,
   "metadata": {},
   "outputs": [],
   "source": [
    "df = pd.read_json('funks.json')"
   ]
  },
  {
   "cell_type": "code",
   "execution_count": 4,
   "metadata": {},
   "outputs": [
    {
     "name": "stderr",
     "output_type": "stream",
     "text": [
      "/usr/local/lib/python3.6/dist-packages/ipykernel_launcher.py:3: FutureWarning: The signature of `Series.to_csv` was aligned to that of `DataFrame.to_csv`, and argument 'header' will change its default value from False to True: please pass an explicit value to suppress this warning.\n",
      "  This is separate from the ipykernel package so we can avoid doing imports until\n"
     ]
    }
   ],
   "source": [
    "df2 = df.letter\n",
    "\n",
    "df2.to_csv('funkemtxt.txt',index=None, header=None)"
   ]
  },
  {
   "cell_type": "code",
   "execution_count": 6,
   "metadata": {},
   "outputs": [
    {
     "name": "stdout",
     "output_type": "stream",
     "text": [
      "Length of text: 1282732 characters\n"
     ]
    }
   ],
   "source": [
    "text = open('funkemtxt.txt', 'rb').read().decode(encoding='utf-8')\n",
    "print ('Length of text: {} characters'.format(len(text)))"
   ]
  },
  {
   "cell_type": "code",
   "execution_count": 8,
   "metadata": {},
   "outputs": [
    {
     "name": "stdout",
     "output_type": "stream",
     "text": [
      "122 unique characters\n"
     ]
    }
   ],
   "source": [
    "vocab = sorted(set(text))\n",
    "print ('{} unique characters'.format(len(vocab)))"
   ]
  },
  {
   "cell_type": "markdown",
   "metadata": {},
   "source": [
    "# Process Text"
   ]
  },
  {
   "cell_type": "code",
   "execution_count": 9,
   "metadata": {},
   "outputs": [],
   "source": [
    "# Creating a mapping from unique characters to indices\n",
    "char2idx = {u:i for i, u in enumerate(vocab)}\n",
    "idx2char = np.array(vocab)\n",
    "\n",
    "text_as_int = np.array([char2idx[c] for c in text])"
   ]
  },
  {
   "cell_type": "code",
   "execution_count": 10,
   "metadata": {},
   "outputs": [
    {
     "name": "stdout",
     "output_type": "stream",
     "text": [
      "{\n",
      "  '\\n':   0,\n",
      "  ' ' :   1,\n",
      "  '!' :   2,\n",
      "  '\"' :   3,\n",
      "  '%' :   4,\n",
      "  '&' :   5,\n",
      "  \"'\" :   6,\n",
      "  '(' :   7,\n",
      "  ')' :   8,\n",
      "  '*' :   9,\n",
      "  ',' :  10,\n",
      "  '-' :  11,\n",
      "  '.' :  12,\n",
      "  '/' :  13,\n",
      "  '0' :  14,\n",
      "  '1' :  15,\n",
      "  '2' :  16,\n",
      "  '3' :  17,\n",
      "  '4' :  18,\n",
      "  '5' :  19,\n",
      "  ...\n",
      "}\n"
     ]
    }
   ],
   "source": [
    "print('{')\n",
    "for char,_ in zip(char2idx, range(20)):\n",
    "    print('  {:4s}: {:3d},'.format(repr(char), char2idx[char]))\n",
    "print('  ...\\n}')"
   ]
  },
  {
   "cell_type": "code",
   "execution_count": 11,
   "metadata": {},
   "outputs": [
    {
     "name": "stdout",
     "output_type": "stream",
     "text": [
      "'\"Sem neurose ' ---- characters mapped to int ---- > [ 3 45 59 67  1 68 59 75 72 69 73 59  1]\n"
     ]
    }
   ],
   "source": [
    "# Show how the first 13 characters from the text are mapped to integers\n",
    "print ('{} ---- characters mapped to int ---- > {}'.format(repr(text[:13]), text_as_int[:13])) "
   ]
  },
  {
   "cell_type": "markdown",
   "metadata": {},
   "source": [
    "# Create training examples and targets"
   ]
  },
  {
   "cell_type": "code",
   "execution_count": 12,
   "metadata": {},
   "outputs": [
    {
     "name": "stdout",
     "output_type": "stream",
     "text": [
      "\"\n",
      "S\n",
      "e\n",
      "m\n",
      " \n"
     ]
    }
   ],
   "source": [
    "# The maximum length sentence we want for a single input in characters\n",
    "seq_length = 100\n",
    "examples_per_epoch = len(text)//seq_length\n",
    "\n",
    "# Create training examples / targets\n",
    "char_dataset = tf.data.Dataset.from_tensor_slices(text_as_int)\n",
    "\n",
    "for i in char_dataset.take(5):\n",
    "  print(idx2char[i.numpy()])"
   ]
  },
  {
   "cell_type": "code",
   "execution_count": 13,
   "metadata": {},
   "outputs": [
    {
     "name": "stdout",
     "output_type": "stream",
     "text": [
      "'\"Sem neurose eu começo esse funk\\nCom a maior satisfação\\nPois eu tenho com sentimento\\nDo primeiro a fa'\n",
      "'cção\\nFoi 5 dias de terror, oh qe a Zona Sul tremeu\\nQuem abalou a Zona Sul foi o Bonde do Zebedeu\\nNão '\n",
      "'se espante com minhas palavras,\\nVou citar sem emoção,\\nMas pra fechar com o primeiro\\nTem que ser de co'\n",
      "'ração,\\nPaz, Justiça e Liberdade\\nPara quem se encontra trancado,\\nEssa luta não é em vão\\nE os nosso irm'\n",
      "'ãos estão bolado.\\nVou mandando um forte abraço\\nPara o irmão Sidney,\\nRonaldinho fecha com a Sul,\\nGordã'\n"
     ]
    }
   ],
   "source": [
    "sequences = char_dataset.batch(seq_length+1, drop_remainder=True)\n",
    "\n",
    "for item in sequences.take(5):\n",
    "  print(repr(''.join(idx2char[item.numpy()])))\n",
    "\n"
   ]
  },
  {
   "cell_type": "markdown",
   "metadata": {},
   "source": [
    "For each sequence, duplicate and shift it to form the input and target text by using the map method to apply a simple function to each batch:"
   ]
  },
  {
   "cell_type": "code",
   "execution_count": 14,
   "metadata": {},
   "outputs": [],
   "source": [
    "def split_input_target(chunk):\n",
    "    input_text = chunk[:-1]\n",
    "    target_text = chunk[1:]\n",
    "    return input_text, target_text\n",
    "\n",
    "dataset = sequences.map(split_input_target)"
   ]
  },
  {
   "cell_type": "markdown",
   "metadata": {},
   "source": [
    "# Create training batches"
   ]
  },
  {
   "cell_type": "code",
   "execution_count": 17,
   "metadata": {},
   "outputs": [
    {
     "data": {
      "text/plain": [
       "<DatasetV1Adapter shapes: ((64, 100), (64, 100)), types: (tf.int64, tf.int64)>"
      ]
     },
     "execution_count": 17,
     "metadata": {},
     "output_type": "execute_result"
    }
   ],
   "source": [
    "# Batch size\n",
    "BATCH_SIZE = 64\n",
    "\n",
    "# Buffer size to shuffle the dataset\n",
    "# (TF data is designed to work with possibly infinite sequences,\n",
    "# so it doesn't attempt to shuffle the entire sequence in memory. Instead,\n",
    "# it maintains a buffer in which it shuffles elements).\n",
    "BUFFER_SIZE = 10000\n",
    "\n",
    "dataset = dataset.shuffle(BUFFER_SIZE).batch(BATCH_SIZE, drop_remainder=True)\n",
    "\n",
    "dataset"
   ]
  },
  {
   "cell_type": "markdown",
   "metadata": {},
   "source": [
    "# Build The Model\n"
   ]
  },
  {
   "cell_type": "code",
   "execution_count": 18,
   "metadata": {},
   "outputs": [],
   "source": [
    "# Length of the vocabulary in chars\n",
    "vocab_size = len(vocab)\n",
    "\n",
    "# The embedding dimension\n",
    "embedding_dim = 256\n",
    "\n",
    "# Number of RNN units\n",
    "rnn_units = 1024"
   ]
  },
  {
   "cell_type": "code",
   "execution_count": 19,
   "metadata": {},
   "outputs": [
    {
     "data": {
      "text/plain": [
       "['\\n',\n",
       " ' ',\n",
       " '!',\n",
       " '\"',\n",
       " '%',\n",
       " '&',\n",
       " \"'\",\n",
       " '(',\n",
       " ')',\n",
       " '*',\n",
       " ',',\n",
       " '-',\n",
       " '.',\n",
       " '/',\n",
       " '0',\n",
       " '1',\n",
       " '2',\n",
       " '3',\n",
       " '4',\n",
       " '5',\n",
       " '6',\n",
       " '7',\n",
       " '8',\n",
       " '9',\n",
       " ':',\n",
       " ';',\n",
       " '?',\n",
       " 'A',\n",
       " 'B',\n",
       " 'C',\n",
       " 'D',\n",
       " 'E',\n",
       " 'F',\n",
       " 'G',\n",
       " 'H',\n",
       " 'I',\n",
       " 'J',\n",
       " 'K',\n",
       " 'L',\n",
       " 'M',\n",
       " 'N',\n",
       " 'O',\n",
       " 'P',\n",
       " 'Q',\n",
       " 'R',\n",
       " 'S',\n",
       " 'T',\n",
       " 'U',\n",
       " 'V',\n",
       " 'W',\n",
       " 'X',\n",
       " 'Y',\n",
       " 'Z',\n",
       " '[',\n",
       " ']',\n",
       " 'a',\n",
       " 'b',\n",
       " 'c',\n",
       " 'd',\n",
       " 'e',\n",
       " 'f',\n",
       " 'g',\n",
       " 'h',\n",
       " 'i',\n",
       " 'j',\n",
       " 'k',\n",
       " 'l',\n",
       " 'm',\n",
       " 'n',\n",
       " 'o',\n",
       " 'p',\n",
       " 'q',\n",
       " 'r',\n",
       " 's',\n",
       " 't',\n",
       " 'u',\n",
       " 'v',\n",
       " 'w',\n",
       " 'x',\n",
       " 'y',\n",
       " 'z',\n",
       " '{',\n",
       " '}',\n",
       " '~',\n",
       " '¡',\n",
       " '°',\n",
       " '²',\n",
       " '¹',\n",
       " 'À',\n",
       " 'Á',\n",
       " 'Ã',\n",
       " 'Ç',\n",
       " 'È',\n",
       " 'É',\n",
       " 'Ê',\n",
       " 'Í',\n",
       " 'Ó',\n",
       " 'Ô',\n",
       " 'Ú',\n",
       " 'à',\n",
       " 'á',\n",
       " 'â',\n",
       " 'ã',\n",
       " 'ç',\n",
       " 'è',\n",
       " 'é',\n",
       " 'ê',\n",
       " 'ë',\n",
       " 'í',\n",
       " 'î',\n",
       " 'ò',\n",
       " 'ó',\n",
       " 'ô',\n",
       " 'õ',\n",
       " 'ö',\n",
       " 'ù',\n",
       " 'ú',\n",
       " 'ü',\n",
       " '–',\n",
       " '’',\n",
       " '…',\n",
       " '−']"
      ]
     },
     "execution_count": 19,
     "metadata": {},
     "output_type": "execute_result"
    }
   ],
   "source": [
    "vocab"
   ]
  },
  {
   "cell_type": "code",
   "execution_count": 20,
   "metadata": {},
   "outputs": [],
   "source": [
    "if tf.test.is_gpu_available():\n",
    "  rnn = tf.keras.layers.CuDNNGRU\n",
    "else:\n",
    "  import functools\n",
    "  rnn = functools.partial(\n",
    "    tf.keras.layers.GRU, recurrent_activation='sigmoid')"
   ]
  },
  {
   "cell_type": "code",
   "execution_count": 21,
   "metadata": {},
   "outputs": [],
   "source": [
    "def build_model(vocab_size, embedding_dim, rnn_units, batch_size):\n",
    "  model = tf.keras.Sequential([\n",
    "    tf.keras.layers.Embedding(vocab_size, embedding_dim,\n",
    "                              batch_input_shape=[batch_size, None]),\n",
    "    tf.keras.layers.LSTM(rnn_units,\n",
    "                        return_sequences=True,\n",
    "                        stateful=True,\n",
    "                        recurrent_initializer='glorot_uniform'),\n",
    "    tf.keras.layers.Dense(vocab_size)\n",
    "  ])\n",
    "  return model"
   ]
  },
  {
   "cell_type": "code",
   "execution_count": 22,
   "metadata": {},
   "outputs": [],
   "source": [
    "model = build_model(\n",
    "  vocab_size = len(vocab),\n",
    "  embedding_dim=embedding_dim,\n",
    "  rnn_units=rnn_units,\n",
    "  batch_size=BATCH_SIZE)"
   ]
  },
  {
   "cell_type": "code",
   "execution_count": 23,
   "metadata": {},
   "outputs": [
    {
     "data": {
      "text/plain": [
       "122"
      ]
     },
     "execution_count": 23,
     "metadata": {},
     "output_type": "execute_result"
    }
   ],
   "source": [
    "vocab_size"
   ]
  },
  {
   "cell_type": "markdown",
   "metadata": {},
   "source": [
    "# Try the model"
   ]
  },
  {
   "cell_type": "code",
   "execution_count": 24,
   "metadata": {},
   "outputs": [
    {
     "name": "stdout",
     "output_type": "stream",
     "text": [
      "(64, 100, 122) # (batch_size, sequence_length, vocab_size)\n"
     ]
    }
   ],
   "source": [
    "for input_example_batch, target_example_batch in dataset.take(1):\n",
    "  example_batch_predictions = model(input_example_batch)\n",
    "  print(example_batch_predictions.shape, \"# (batch_size, sequence_length, vocab_size)\")\n"
   ]
  },
  {
   "cell_type": "code",
   "execution_count": 25,
   "metadata": {},
   "outputs": [
    {
     "data": {
      "text/plain": [
       "<DatasetV1Adapter shapes: ((64, 100), (64, 100)), types: (tf.int64, tf.int64)>"
      ]
     },
     "execution_count": 25,
     "metadata": {},
     "output_type": "execute_result"
    }
   ],
   "source": [
    "dataset.take(1)\n"
   ]
  },
  {
   "cell_type": "code",
   "execution_count": 26,
   "metadata": {},
   "outputs": [
    {
     "name": "stdout",
     "output_type": "stream",
     "text": [
      "Model: \"sequential\"\n",
      "_________________________________________________________________\n",
      "Layer (type)                 Output Shape              Param #   \n",
      "=================================================================\n",
      "embedding (Embedding)        (64, None, 256)           31232     \n",
      "_________________________________________________________________\n",
      "lstm (LSTM)                  (64, None, 1024)          5246976   \n",
      "_________________________________________________________________\n",
      "dense (Dense)                (64, None, 122)           125050    \n",
      "=================================================================\n",
      "Total params: 5,403,258\n",
      "Trainable params: 5,403,258\n",
      "Non-trainable params: 0\n",
      "_________________________________________________________________\n"
     ]
    }
   ],
   "source": [
    "model.summary()"
   ]
  },
  {
   "cell_type": "code",
   "execution_count": 27,
   "metadata": {},
   "outputs": [],
   "source": [
    "sampled_indices = tf.random.categorical(example_batch_predictions[0], num_samples=1)\n",
    "sampled_indices = tf.squeeze(sampled_indices,axis=-1).numpy()"
   ]
  },
  {
   "cell_type": "code",
   "execution_count": 28,
   "metadata": {},
   "outputs": [
    {
     "data": {
      "text/plain": [
       "array([ 59,  18,  29,  72, 112, 107,  34,  73,  21,  40,  91,  45,   4,\n",
       "         7,  52,   7, 111,  10,  36,  78,  91,  99,  35,  98,  49,  87,\n",
       "       106,  86,  88,  37,  94, 113,  76,  69,   1,  78,  85,  73,  82,\n",
       "        88,  17,  59,  73,  41,  67,  28,  50, 100, 119,  87,  64,  65,\n",
       "        33,  42,  17, 118,  10,  42,  63,  11, 120,  35,  64,  18,  91,\n",
       "        72, 101,  64,  50, 116,  35,  61,  51,  83,  93,  22,  68,  57,\n",
       "        61, 110,  57,  85,  93,  14,  77,  59,  81,  76,  50,  68,   7,\n",
       "        73,  22,  74,   2,  55, 114,  78,  16,   2])"
      ]
     },
     "execution_count": 28,
     "metadata": {},
     "output_type": "execute_result"
    }
   ],
   "source": [
    "sampled_indices"
   ]
  },
  {
   "cell_type": "code",
   "execution_count": 29,
   "metadata": {},
   "outputs": [
    {
     "name": "stdout",
     "output_type": "stream",
     "text": [
      "Input: \n",
      " 'on pra nós\\nFaz o que você quiser quando nós tamo a sós, paz\\nPro nosso rolê que a nossa vida é louca\\n'\n",
      "\n",
      "Next Char Predictions: \n",
      " 'e4CrôëHs7NÇS%(Z(ó,JxÇàIÚW¹ê²ÀKÊõvo x°s}À3esOmBXá’¹jkGP3–,Pi-…Ij4ÇrâjXúIgY~É8ncgòc°É0we{vXn(s8t!aöx2!'\n"
     ]
    }
   ],
   "source": [
    "print(\"Input: \\n\", repr(\"\".join(idx2char[input_example_batch[0]])))\n",
    "print()\n",
    "print(\"Next Char Predictions: \\n\", repr(\"\".join(idx2char[sampled_indices ])))"
   ]
  },
  {
   "cell_type": "markdown",
   "metadata": {},
   "source": [
    "# Trainning"
   ]
  },
  {
   "cell_type": "code",
   "execution_count": 30,
   "metadata": {},
   "outputs": [
    {
     "name": "stdout",
     "output_type": "stream",
     "text": [
      "Prediction shape:  (64, 100, 122)  # (batch_size, sequence_length, vocab_size)\n",
      "scalar_loss:       4.8049493\n"
     ]
    }
   ],
   "source": [
    "def loss(labels, logits):\n",
    "  return tf.keras.losses.sparse_categorical_crossentropy(labels, logits, from_logits=True)\n",
    "\n",
    "example_batch_loss  = loss(target_example_batch, example_batch_predictions)\n",
    "print(\"Prediction shape: \", example_batch_predictions.shape, \" # (batch_size, sequence_length, vocab_size)\")\n",
    "print(\"scalar_loss:      \", example_batch_loss.numpy().mean())\n"
   ]
  },
  {
   "cell_type": "code",
   "execution_count": 31,
   "metadata": {},
   "outputs": [],
   "source": [
    "model.compile(optimizer='adam', loss=loss)\n"
   ]
  },
  {
   "cell_type": "code",
   "execution_count": 32,
   "metadata": {},
   "outputs": [],
   "source": [
    "model.compile(\n",
    "    optimizer = tf.train.AdamOptimizer(),\n",
    "    loss = loss)"
   ]
  },
  {
   "cell_type": "code",
   "execution_count": null,
   "metadata": {},
   "outputs": [],
   "source": [
    "#save my checkpoints"
   ]
  },
  {
   "cell_type": "code",
   "execution_count": 33,
   "metadata": {},
   "outputs": [],
   "source": [
    "# Directory where the checkpoints will be saved\n",
    "checkpoint_dir = './training_checkpoints'\n",
    "# Name of the checkpoint files\n",
    "checkpoint_prefix = os.path.join(checkpoint_dir, \"ckpt_{epoch}\")\n",
    "\n",
    "checkpoint_callback=tf.keras.callbacks.ModelCheckpoint(\n",
    "    filepath=checkpoint_prefix,\n",
    "    save_weights_only=True)\n"
   ]
  },
  {
   "cell_type": "code",
   "execution_count": 34,
   "metadata": {},
   "outputs": [],
   "source": [
    "EPOCHS=50"
   ]
  },
  {
   "cell_type": "code",
   "execution_count": 35,
   "metadata": {},
   "outputs": [
    {
     "name": "stdout",
     "output_type": "stream",
     "text": [
      "Epoch 1/50\n"
     ]
    },
    {
     "name": "stderr",
     "output_type": "stream",
     "text": [
      "WARNING: Logging before flag parsing goes to stderr.\n",
      "W0714 14:50:56.332778 140006398977856 deprecation.py:323] From /usr/local/lib/python3.6/dist-packages/tensorflow_core/python/ops/math_grad.py:1251: where (from tensorflow.python.ops.array_ops) is deprecated and will be removed in a future version.\n",
      "Instructions for updating:\n",
      "Use tf.where in 2.0, which has the same broadcast rule as np.where\n",
      "W0714 14:50:57.223992 140006398977856 deprecation.py:323] From /usr/local/lib/python3.6/dist-packages/tensorflow_core/python/training/optimizer.py:166: BaseResourceVariable.constraint (from tensorflow.python.ops.resource_variable_ops) is deprecated and will be removed in a future version.\n",
      "Instructions for updating:\n",
      "Apply a constraint manually following the optimizer update step.\n"
     ]
    },
    {
     "name": "stdout",
     "output_type": "stream",
     "text": [
      "198/198 [==============================] - 1072s 5s/step - loss: 2.6714\n",
      "Epoch 2/50\n",
      "198/198 [==============================] - 1069s 5s/step - loss: 2.1200\n",
      "Epoch 3/50\n",
      "198/198 [==============================] - 1059s 5s/step - loss: 1.9303\n",
      "Epoch 4/50\n",
      "198/198 [==============================] - 1055s 5s/step - loss: 1.7658\n",
      "Epoch 5/50\n",
      "198/198 [==============================] - 1057s 5s/step - loss: 1.6390\n",
      "Epoch 6/50\n",
      "198/198 [==============================] - 1055s 5s/step - loss: 1.5414\n",
      "Epoch 7/50\n",
      "198/198 [==============================] - 1054s 5s/step - loss: 1.4623\n",
      "Epoch 8/50\n",
      "198/198 [==============================] - 1058s 5s/step - loss: 1.3938\n",
      "Epoch 9/50\n",
      "198/198 [==============================] - 1054s 5s/step - loss: 1.3309\n",
      "Epoch 10/50\n",
      "198/198 [==============================] - 1054s 5s/step - loss: 1.2719\n",
      "Epoch 11/50\n",
      "198/198 [==============================] - 1054s 5s/step - loss: 1.2171\n",
      "Epoch 12/50\n",
      "198/198 [==============================] - 1056s 5s/step - loss: 1.1648\n",
      "Epoch 13/50\n",
      "198/198 [==============================] - 1056s 5s/step - loss: 1.1150\n",
      "Epoch 14/50\n",
      "198/198 [==============================] - 1055s 5s/step - loss: 1.0680\n",
      "Epoch 15/50\n",
      "198/198 [==============================] - 1055s 5s/step - loss: 1.0203\n",
      "Epoch 16/50\n",
      "198/198 [==============================] - 1054s 5s/step - loss: 0.9739\n",
      "Epoch 17/50\n",
      "198/198 [==============================] - 1056s 5s/step - loss: 0.9310\n",
      "Epoch 18/50\n",
      "198/198 [==============================] - 1057s 5s/step - loss: 0.8921\n",
      "Epoch 19/50\n",
      "198/198 [==============================] - 1056s 5s/step - loss: 0.8529\n",
      "Epoch 20/50\n",
      "198/198 [==============================] - 1054s 5s/step - loss: 0.8119\n",
      "Epoch 21/50\n",
      "198/198 [==============================] - 1054s 5s/step - loss: 0.7751\n",
      "Epoch 22/50\n",
      "198/198 [==============================] - 1057s 5s/step - loss: 0.7424\n",
      "Epoch 23/50\n",
      "198/198 [==============================] - 1054s 5s/step - loss: 0.7089\n",
      "Epoch 24/50\n",
      "198/198 [==============================] - 1054s 5s/step - loss: 0.6766\n",
      "Epoch 25/50\n",
      "198/198 [==============================] - 1054s 5s/step - loss: 0.6478\n",
      "Epoch 26/50\n",
      "198/198 [==============================] - 1054s 5s/step - loss: 0.6227\n",
      "Epoch 27/50\n",
      "198/198 [==============================] - 1055s 5s/step - loss: 0.6028\n",
      "Epoch 28/50\n",
      "198/198 [==============================] - 1057s 5s/step - loss: 0.5813\n",
      "Epoch 29/50\n",
      "198/198 [==============================] - 1055s 5s/step - loss: 0.5557\n",
      "Epoch 30/50\n",
      "198/198 [==============================] - 1058s 5s/step - loss: 0.5347\n",
      "Epoch 31/50\n",
      "198/198 [==============================] - 1058s 5s/step - loss: 0.5146\n",
      "Epoch 32/50\n",
      "198/198 [==============================] - 1054s 5s/step - loss: 0.4940\n",
      "Epoch 33/50\n",
      "198/198 [==============================] - 1054s 5s/step - loss: 0.4765\n",
      "Epoch 34/50\n",
      "198/198 [==============================] - 1055s 5s/step - loss: 0.4606\n",
      "Epoch 35/50\n",
      "198/198 [==============================] - 1056s 5s/step - loss: 0.4462\n",
      "Epoch 36/50\n",
      "198/198 [==============================] - 1054s 5s/step - loss: 0.4315\n",
      "Epoch 37/50\n",
      "198/198 [==============================] - 1055s 5s/step - loss: 0.4128\n",
      "Epoch 38/50\n",
      "198/198 [==============================] - 1056s 5s/step - loss: 0.3966\n",
      "Epoch 39/50\n",
      "198/198 [==============================] - 1059s 5s/step - loss: 0.3782\n",
      "Epoch 40/50\n",
      "198/198 [==============================] - 1054s 5s/step - loss: 0.3630\n",
      "Epoch 41/50\n",
      "198/198 [==============================] - 1054s 5s/step - loss: 0.3506\n",
      "Epoch 42/50\n",
      "198/198 [==============================] - 1059s 5s/step - loss: 0.3399\n",
      "Epoch 43/50\n",
      "198/198 [==============================] - 1054s 5s/step - loss: 0.3322\n",
      "Epoch 44/50\n",
      "198/198 [==============================] - 1057s 5s/step - loss: 0.3246\n",
      "Epoch 45/50\n",
      "198/198 [==============================] - 1058s 5s/step - loss: 0.3213\n",
      "Epoch 46/50\n",
      "198/198 [==============================] - 1054s 5s/step - loss: 0.3146\n",
      "Epoch 47/50\n",
      "198/198 [==============================] - 1053s 5s/step - loss: 0.3078\n",
      "Epoch 48/50\n",
      "198/198 [==============================] - 1053s 5s/step - loss: 0.3009\n",
      "Epoch 49/50\n",
      "198/198 [==============================] - 1054s 5s/step - loss: 0.2959\n",
      "Epoch 50/50\n",
      "198/198 [==============================] - 1054s 5s/step - loss: 0.2895\n"
     ]
    }
   ],
   "source": [
    "#history = model.fit(dataset, epochs=EPOCHS, callbacks=[checkpoint_callback])\n"
   ]
  }
 ],
 "metadata": {
  "kernelspec": {
   "display_name": "Python 3",
   "language": "python",
   "name": "python3"
  },
  "language_info": {
   "codemirror_mode": {
    "name": "ipython",
    "version": 3
   },
   "file_extension": ".py",
   "mimetype": "text/x-python",
   "name": "python",
   "nbconvert_exporter": "python",
   "pygments_lexer": "ipython3",
   "version": "3.6.8"
  }
 },
 "nbformat": 4,
 "nbformat_minor": 2
}
